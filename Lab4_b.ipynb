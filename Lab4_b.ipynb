{
  "nbformat": 4,
  "nbformat_minor": 0,
  "metadata": {
    "colab": {
      "provenance": [],
      "authorship_tag": "ABX9TyMnojfjtz3t/gQ+AyJCDlrk"
    },
    "kernelspec": {
      "name": "python3",
      "display_name": "Python 3"
    },
    "language_info": {
      "name": "python"
    }
  },
  "cells": [
    {
      "cell_type": "code",
      "execution_count": 124,
      "metadata": {
        "id": "j0inIDcDEsCC"
      },
      "outputs": [],
      "source": [
        "import numpy as np\n",
        "import tensorflow as tf\n"
      ]
    },
    {
      "cell_type": "code",
      "source": [
        "npz = np.load('Audiobooks_data_train.npz')\n",
        "\n",
        "train_inputs =npz['inputs'].astype(np.float32)\n",
        "\n",
        "train_targets=npz['targets'].astype(np.int32)\n",
        "\n",
        "npz=np.load('Audiobooks_data_validation.npz')\n",
        "\n",
        "validation_inputs,validation_targets = npz['inputs'].astype(np.float32), npz['targets'].astype(np.int32)\n",
        "\n",
        "npz = np.load('Audiobooks_data_test.npz')\n",
        "\n",
        "test_inputs, test_targets = npz['inputs'].astype(np.float32), npz['targets'].astype(np.int32)"
      ],
      "metadata": {
        "id": "TtOC_d9bFC56"
      },
      "execution_count": 125,
      "outputs": []
    },
    {
      "cell_type": "code",
      "source": [
        "from os import access\n",
        "input_size = 10\n",
        "output_size = 2\n",
        "\n",
        "hidden_layer_size = 50\n",
        "\n",
        "model = tf.keras.Sequential([\n",
        "    tf.keras.layers.Dense(hidden_layer_size, activation='relu'),\n",
        "    tf.keras.layers.Dense(hidden_layer_size, activation='relu'),\n",
        "\n",
        "    tf.keras.layers.Dense(output_size, activation='softmax')\n",
        "])\n",
        "\n",
        "model.compile(optimizer='adam', loss='sparse_categorical_crossentropy', metrics=['accuracy'])"
      ],
      "metadata": {
        "id": "Dwgx6U6VF2ca"
      },
      "execution_count": 126,
      "outputs": []
    },
    {
      "cell_type": "code",
      "source": [
        "batch_size = 100\n",
        "\n",
        "\n",
        "max_epochs = 100\n",
        "early_stopping = tf.keras.callbacks.EarlyStopping(patience =2)\n",
        "\n",
        "model.fit(train_inputs,\n",
        "          train_targets,\n",
        "          batch_size=batch_size,\n",
        "          epochs=max_epochs,\n",
        "          callbacks=[early_stopping],\n",
        "          validation_data=(validation_inputs, validation_targets),\n",
        "          verbose =1\n",
        "          )"
      ],
      "metadata": {
        "colab": {
          "base_uri": "https://localhost:8080/"
        },
        "id": "qaGH783MGdDy",
        "outputId": "f7d895cf-117e-41a8-ec62-4d013ff77ed1"
      },
      "execution_count": 127,
      "outputs": [
        {
          "output_type": "stream",
          "name": "stdout",
          "text": [
            "Epoch 1/2000\n",
            "\u001b[1m4/4\u001b[0m \u001b[32m━━━━━━━━━━━━━━━━━━━━\u001b[0m\u001b[37m\u001b[0m \u001b[1m2s\u001b[0m 83ms/step - accuracy: 0.5034 - loss: 0.7168 - val_accuracy: 0.6331 - val_loss: 0.6543\n",
            "Epoch 2/2000\n",
            "\u001b[1m4/4\u001b[0m \u001b[32m━━━━━━━━━━━━━━━━━━━━\u001b[0m\u001b[37m\u001b[0m \u001b[1m0s\u001b[0m 27ms/step - accuracy: 0.6614 - loss: 0.6428 - val_accuracy: 0.7092 - val_loss: 0.6030\n",
            "Epoch 3/2000\n",
            "\u001b[1m4/4\u001b[0m \u001b[32m━━━━━━━━━━━━━━━━━━━━\u001b[0m\u001b[37m\u001b[0m \u001b[1m0s\u001b[0m 26ms/step - accuracy: 0.7166 - loss: 0.5916 - val_accuracy: 0.7315 - val_loss: 0.5668\n",
            "Epoch 4/2000\n",
            "\u001b[1m4/4\u001b[0m \u001b[32m━━━━━━━━━━━━━━━━━━━━\u001b[0m\u001b[37m\u001b[0m \u001b[1m0s\u001b[0m 25ms/step - accuracy: 0.7271 - loss: 0.5578 - val_accuracy: 0.7271 - val_loss: 0.5400\n",
            "Epoch 5/2000\n",
            "\u001b[1m4/4\u001b[0m \u001b[32m━━━━━━━━━━━━━━━━━━━━\u001b[0m\u001b[37m\u001b[0m \u001b[1m0s\u001b[0m 27ms/step - accuracy: 0.7369 - loss: 0.5323 - val_accuracy: 0.7338 - val_loss: 0.5181\n",
            "Epoch 6/2000\n",
            "\u001b[1m4/4\u001b[0m \u001b[32m━━━━━━━━━━━━━━━━━━━━\u001b[0m\u001b[37m\u001b[0m \u001b[1m0s\u001b[0m 31ms/step - accuracy: 0.7455 - loss: 0.5105 - val_accuracy: 0.7472 - val_loss: 0.4985\n",
            "Epoch 7/2000\n",
            "\u001b[1m4/4\u001b[0m \u001b[32m━━━━━━━━━━━━━━━━━━━━\u001b[0m\u001b[37m\u001b[0m \u001b[1m0s\u001b[0m 25ms/step - accuracy: 0.7546 - loss: 0.4883 - val_accuracy: 0.7405 - val_loss: 0.4823\n",
            "Epoch 8/2000\n",
            "\u001b[1m4/4\u001b[0m \u001b[32m━━━━━━━━━━━━━━━━━━━━\u001b[0m\u001b[37m\u001b[0m \u001b[1m0s\u001b[0m 26ms/step - accuracy: 0.7624 - loss: 0.4681 - val_accuracy: 0.7450 - val_loss: 0.4661\n",
            "Epoch 9/2000\n",
            "\u001b[1m4/4\u001b[0m \u001b[32m━━━━━━━━━━━━━━━━━━━━\u001b[0m\u001b[37m\u001b[0m \u001b[1m0s\u001b[0m 25ms/step - accuracy: 0.7627 - loss: 0.4572 - val_accuracy: 0.7539 - val_loss: 0.4540\n",
            "Epoch 10/2000\n",
            "\u001b[1m4/4\u001b[0m \u001b[32m━━━━━━━━━━━━━━━━━━━━\u001b[0m\u001b[37m\u001b[0m \u001b[1m0s\u001b[0m 26ms/step - accuracy: 0.7741 - loss: 0.4430 - val_accuracy: 0.7517 - val_loss: 0.4431\n",
            "Epoch 11/2000\n",
            "\u001b[1m4/4\u001b[0m \u001b[32m━━━━━━━━━━━━━━━━━━━━\u001b[0m\u001b[37m\u001b[0m \u001b[1m0s\u001b[0m 26ms/step - accuracy: 0.7802 - loss: 0.4300 - val_accuracy: 0.7696 - val_loss: 0.4325\n",
            "Epoch 12/2000\n",
            "\u001b[1m4/4\u001b[0m \u001b[32m━━━━━━━━━━━━━━━━━━━━\u001b[0m\u001b[37m\u001b[0m \u001b[1m0s\u001b[0m 25ms/step - accuracy: 0.7841 - loss: 0.4238 - val_accuracy: 0.7830 - val_loss: 0.4235\n",
            "Epoch 13/2000\n",
            "\u001b[1m4/4\u001b[0m \u001b[32m━━━━━━━━━━━━━━━━━━━━\u001b[0m\u001b[37m\u001b[0m \u001b[1m0s\u001b[0m 25ms/step - accuracy: 0.7796 - loss: 0.4218 - val_accuracy: 0.7897 - val_loss: 0.4152\n",
            "Epoch 14/2000\n",
            "\u001b[1m4/4\u001b[0m \u001b[32m━━━━━━━━━━━━━━━━━━━━\u001b[0m\u001b[37m\u001b[0m \u001b[1m0s\u001b[0m 25ms/step - accuracy: 0.7764 - loss: 0.4166 - val_accuracy: 0.7875 - val_loss: 0.4109\n",
            "Epoch 15/2000\n",
            "\u001b[1m4/4\u001b[0m \u001b[32m━━━━━━━━━━━━━━━━━━━━\u001b[0m\u001b[37m\u001b[0m \u001b[1m0s\u001b[0m 25ms/step - accuracy: 0.7909 - loss: 0.4023 - val_accuracy: 0.7852 - val_loss: 0.4053\n",
            "Epoch 16/2000\n",
            "\u001b[1m4/4\u001b[0m \u001b[32m━━━━━━━━━━━━━━━━━━━━\u001b[0m\u001b[37m\u001b[0m \u001b[1m0s\u001b[0m 26ms/step - accuracy: 0.7911 - loss: 0.4022 - val_accuracy: 0.7897 - val_loss: 0.3992\n",
            "Epoch 17/2000\n",
            "\u001b[1m4/4\u001b[0m \u001b[32m━━━━━━━━━━━━━━━━━━━━\u001b[0m\u001b[37m\u001b[0m \u001b[1m0s\u001b[0m 25ms/step - accuracy: 0.7873 - loss: 0.3958 - val_accuracy: 0.7852 - val_loss: 0.3984\n",
            "Epoch 18/2000\n",
            "\u001b[1m4/4\u001b[0m \u001b[32m━━━━━━━━━━━━━━━━━━━━\u001b[0m\u001b[37m\u001b[0m \u001b[1m0s\u001b[0m 25ms/step - accuracy: 0.7979 - loss: 0.3940 - val_accuracy: 0.7852 - val_loss: 0.3938\n",
            "Epoch 19/2000\n",
            "\u001b[1m4/4\u001b[0m \u001b[32m━━━━━━━━━━━━━━━━━━━━\u001b[0m\u001b[37m\u001b[0m \u001b[1m0s\u001b[0m 26ms/step - accuracy: 0.7964 - loss: 0.3893 - val_accuracy: 0.7964 - val_loss: 0.3923\n",
            "Epoch 20/2000\n",
            "\u001b[1m4/4\u001b[0m \u001b[32m━━━━━━━━━━━━━━━━━━━━\u001b[0m\u001b[37m\u001b[0m \u001b[1m0s\u001b[0m 26ms/step - accuracy: 0.7896 - loss: 0.3922 - val_accuracy: 0.7942 - val_loss: 0.3902\n",
            "Epoch 21/2000\n",
            "\u001b[1m4/4\u001b[0m \u001b[32m━━━━━━━━━━━━━━━━━━━━\u001b[0m\u001b[37m\u001b[0m \u001b[1m0s\u001b[0m 41ms/step - accuracy: 0.7943 - loss: 0.3898 - val_accuracy: 0.7964 - val_loss: 0.3870\n",
            "Epoch 22/2000\n",
            "\u001b[1m4/4\u001b[0m \u001b[32m━━━━━━━━━━━━━━━━━━━━\u001b[0m\u001b[37m\u001b[0m \u001b[1m0s\u001b[0m 32ms/step - accuracy: 0.7945 - loss: 0.3845 - val_accuracy: 0.7987 - val_loss: 0.3846\n",
            "Epoch 23/2000\n",
            "\u001b[1m4/4\u001b[0m \u001b[32m━━━━━━━━━━━━━━━━━━━━\u001b[0m\u001b[37m\u001b[0m \u001b[1m0s\u001b[0m 27ms/step - accuracy: 0.7935 - loss: 0.3853 - val_accuracy: 0.7964 - val_loss: 0.3877\n",
            "Epoch 24/2000\n",
            "\u001b[1m4/4\u001b[0m \u001b[32m━━━━━━━━━━━━━━━━━━━━\u001b[0m\u001b[37m\u001b[0m \u001b[1m0s\u001b[0m 29ms/step - accuracy: 0.7963 - loss: 0.3815 - val_accuracy: 0.7987 - val_loss: 0.3816\n",
            "Epoch 25/2000\n",
            "\u001b[1m4/4\u001b[0m \u001b[32m━━━━━━━━━━━━━━━━━━━━\u001b[0m\u001b[37m\u001b[0m \u001b[1m0s\u001b[0m 27ms/step - accuracy: 0.7921 - loss: 0.3814 - val_accuracy: 0.8009 - val_loss: 0.3840\n",
            "Epoch 26/2000\n",
            "\u001b[1m4/4\u001b[0m \u001b[32m━━━━━━━━━━━━━━━━━━━━\u001b[0m\u001b[37m\u001b[0m \u001b[1m0s\u001b[0m 42ms/step - accuracy: 0.7977 - loss: 0.3783 - val_accuracy: 0.7964 - val_loss: 0.3802\n",
            "Epoch 27/2000\n",
            "\u001b[1m4/4\u001b[0m \u001b[32m━━━━━━━━━━━━━━━━━━━━\u001b[0m\u001b[37m\u001b[0m \u001b[1m0s\u001b[0m 27ms/step - accuracy: 0.8013 - loss: 0.3744 - val_accuracy: 0.8009 - val_loss: 0.3768\n",
            "Epoch 28/2000\n",
            "\u001b[1m4/4\u001b[0m \u001b[32m━━━━━━━━━━━━━━━━━━━━\u001b[0m\u001b[37m\u001b[0m \u001b[1m0s\u001b[0m 43ms/step - accuracy: 0.8004 - loss: 0.3765 - val_accuracy: 0.8076 - val_loss: 0.3746\n",
            "Epoch 29/2000\n",
            "\u001b[1m4/4\u001b[0m \u001b[32m━━━━━━━━━━━━━━━━━━━━\u001b[0m\u001b[37m\u001b[0m \u001b[1m0s\u001b[0m 31ms/step - accuracy: 0.7977 - loss: 0.3768 - val_accuracy: 0.8009 - val_loss: 0.3758\n",
            "Epoch 30/2000\n",
            "\u001b[1m4/4\u001b[0m \u001b[32m━━━━━━━━━━━━━━━━━━━━\u001b[0m\u001b[37m\u001b[0m \u001b[1m0s\u001b[0m 29ms/step - accuracy: 0.7984 - loss: 0.3727 - val_accuracy: 0.7964 - val_loss: 0.3757\n"
          ]
        },
        {
          "output_type": "execute_result",
          "data": {
            "text/plain": [
              "<keras.src.callbacks.history.History at 0x793b43f809d0>"
            ]
          },
          "metadata": {},
          "execution_count": 127
        }
      ]
    },
    {
      "cell_type": "code",
      "source": [
        "test_loss, test_accuracy = model.evaluate(test_inputs, test_targets)\n",
        "print('\\n Test loss: {0:.2f}. Test accuracy: {1:.2f}%'.format(test_loss, test_accuracy*100.))"
      ],
      "metadata": {
        "colab": {
          "base_uri": "https://localhost:8080/"
        },
        "id": "VnU7_GwPHY5h",
        "outputId": "4cedcd99-10a1-4e5a-c8e9-fcc3139beda6"
      },
      "execution_count": 128,
      "outputs": [
        {
          "output_type": "stream",
          "name": "stdout",
          "text": [
            "\u001b[1m14/14\u001b[0m \u001b[32m━━━━━━━━━━━━━━━━━━━━\u001b[0m\u001b[37m\u001b[0m \u001b[1m0s\u001b[0m 4ms/step - accuracy: 0.7546 - loss: 0.4421 \n",
            "\n",
            " Test loss: 0.40. Test accuracy: 79.46%\n"
          ]
        }
      ]
    }
  ]
}